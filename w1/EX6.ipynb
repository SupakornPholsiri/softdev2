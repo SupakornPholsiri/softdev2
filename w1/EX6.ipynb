{
 "cells": [
  {
   "cell_type": "code",
   "execution_count": 17,
   "metadata": {},
   "outputs": [],
   "source": [
    "class MatrixCreator:\n",
    "    def create_matrixes_from_input(self):\n",
    "        matrixes = []\n",
    "        n = int(input())\n",
    "        while(n > 0):\n",
    "            size = int(input())\n",
    "            matrix = []\n",
    "            for i in range(size):\n",
    "                input_row = input().split(\" \")\n",
    "                matrix.append(input_row)\n",
    "            n -= 1\n",
    "            matrixes.append(matrix)\n",
    "        return matrixes\n",
    "\n",
    "class Solution:\n",
    "    def display_sum_10_combi_from_all_matrix(self, matrixes):\n",
    "        for matrix in matrixes:\n",
    "            print(self.find_sum_10_combination(matrix))\n",
    "\n",
    "    def find_sum_10_combination(self, matrix):\n",
    "        return(self.count_in_rows(matrix) + self.count_in_columns(matrix))\n",
    "\n",
    "    def count_in_rows(self,matrix):\n",
    "        count = 0\n",
    "        for row in range(len(matrix)):\n",
    "            sum = 0\n",
    "            num_of_removed = 0\n",
    "            for num in matrix[row]:\n",
    "                sum += int(num)\n",
    "                while sum > 10:\n",
    "                    sum -= int(matrix[row][num_of_removed])\n",
    "                    num_of_removed += 1\n",
    "                if sum == 10:\n",
    "                    count += 1\n",
    "        return count\n",
    "\n",
    "    def count_in_columns(self,matrix):\n",
    "        count = 0\n",
    "        for column in range(len(matrix)):\n",
    "            sum = 0\n",
    "            num_of_removed = 0\n",
    "            for row in matrix:\n",
    "                sum += int(row[column])\n",
    "                while sum > 10:\n",
    "                    sum -= int(matrix[num_of_removed][column])\n",
    "                    num_of_removed += 1\n",
    "                if sum == 10:\n",
    "                    count += 1\n",
    "        return count"
   ]
  },
  {
   "cell_type": "code",
   "execution_count": 18,
   "metadata": {},
   "outputs": [
    {
     "name": "stdout",
     "output_type": "stream",
     "text": [
      "4\n",
      "10\n"
     ]
    }
   ],
   "source": [
    "solution = Solution()\n",
    "matrixCreator = MatrixCreator()\n",
    "\n",
    "matrixes = matrixCreator.create_matrixes_from_input()\n",
    "solution.display_sum_10_combi_from_all_matrix(matrixes)"
   ]
  }
 ],
 "metadata": {
  "kernelspec": {
   "display_name": "Python 3.10.6 64-bit",
   "language": "python",
   "name": "python3"
  },
  "language_info": {
   "codemirror_mode": {
    "name": "ipython",
    "version": 3
   },
   "file_extension": ".py",
   "mimetype": "text/x-python",
   "name": "python",
   "nbconvert_exporter": "python",
   "pygments_lexer": "ipython3",
   "version": "3.10.6 (tags/v3.10.6:9c7b4bd, Aug  1 2022, 21:53:49) [MSC v.1932 64 bit (AMD64)]"
  },
  "orig_nbformat": 4,
  "vscode": {
   "interpreter": {
    "hash": "5ebe6008498e3d42f9e76fe818a4d9530df5258114415b15480701e6b49b9c8d"
   }
  }
 },
 "nbformat": 4,
 "nbformat_minor": 2
}
