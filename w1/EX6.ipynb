{
 "cells": [
  {
   "cell_type": "code",
   "execution_count": 24,
   "metadata": {},
   "outputs": [
    {
     "name": "stdout",
     "output_type": "stream",
     "text": [
      "[['1', '3', '5', '7'], ['2', '4', '8', '2'], ['6', '3', '1', '1'], ['2', '3', '5', '6']]\n",
      "[['1', '2', '3', '4'], ['1', '2', '3', '4'], ['1', '2', '3', '4'], ['1', '2', '3', '4']]\n",
      "[['2', '2', '2', '2', '2'], ['2', '2', '2', '2', '2'], ['2', '2', '2', '2', '2'], ['2', '2', '2', '2', '2'], ['2', '2', '2', '2', '2']]\n",
      "7\n",
      "4\n",
      "10\n"
     ]
    }
   ],
   "source": [
    "result = []\n",
    "\n",
    "n = int(input())\n",
    "while(n > 0):\n",
    "    size = int(input())\n",
    "    matrix = []\n",
    "    for i in range(size):\n",
    "        input_row = input().split(\" \")\n",
    "        matrix.append(input_row)\n",
    "\n",
    "    count = 0\n",
    "     \n",
    "    for row in range(size):\n",
    "        sum = 0\n",
    "        num_of_removed = 0\n",
    "        for num in matrix[row]:\n",
    "            sum += int(num)\n",
    "            while sum > 10:\n",
    "                sum -= int(matrix[row][num_of_removed])\n",
    "                num_of_removed += 1\n",
    "            if sum == 10:\n",
    "                count += 1\n",
    "\n",
    "    for column in range(size):\n",
    "        sum = 0\n",
    "        num_of_removed = 0\n",
    "        for row in matrix:\n",
    "            sum += int(row[column])\n",
    "            while sum > 10:\n",
    "                sum -= int(matrix[num_of_removed][column])\n",
    "                num_of_removed += 1\n",
    "            if sum == 10:\n",
    "                count += 1\n",
    "\n",
    "    result.append(count)\n",
    "    n -= 1\n",
    "\n",
    "for i in result:\n",
    "    print(i)"
   ]
  }
 ],
 "metadata": {
  "kernelspec": {
   "display_name": "Python 3.10.6 64-bit",
   "language": "python",
   "name": "python3"
  },
  "language_info": {
   "codemirror_mode": {
    "name": "ipython",
    "version": 3
   },
   "file_extension": ".py",
   "mimetype": "text/x-python",
   "name": "python",
   "nbconvert_exporter": "python",
   "pygments_lexer": "ipython3",
   "version": "3.10.6"
  },
  "orig_nbformat": 4,
  "vscode": {
   "interpreter": {
    "hash": "5ebe6008498e3d42f9e76fe818a4d9530df5258114415b15480701e6b49b9c8d"
   }
  }
 },
 "nbformat": 4,
 "nbformat_minor": 2
}
