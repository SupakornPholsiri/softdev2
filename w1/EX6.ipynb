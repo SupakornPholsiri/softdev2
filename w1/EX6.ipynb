{
 "cells": [
  {
   "cell_type": "code",
   "execution_count": 5,
   "metadata": {},
   "outputs": [
    {
     "ename": "TypeError",
     "evalue": "list indices must be integers or slices, not str",
     "output_type": "error",
     "traceback": [
      "\u001b[1;31m---------------------------------------------------------------------------\u001b[0m",
      "\u001b[1;31mTypeError\u001b[0m                                 Traceback (most recent call last)",
      "Cell \u001b[1;32mIn [5], line 15\u001b[0m\n\u001b[0;32m     13\u001b[0m num_of_removed \u001b[39m=\u001b[39m \u001b[39m0\u001b[39m\n\u001b[0;32m     14\u001b[0m \u001b[39mfor\u001b[39;00m i \u001b[39min\u001b[39;00m matrix[row]:\n\u001b[1;32m---> 15\u001b[0m     \u001b[39msum\u001b[39m \u001b[39m+\u001b[39m\u001b[39m=\u001b[39m matrix[row][i]\n\u001b[0;32m     16\u001b[0m     \u001b[39mif\u001b[39;00m i \u001b[39m>\u001b[39m \u001b[39m0\u001b[39m \u001b[39mand\u001b[39;00m \u001b[39msum\u001b[39m \u001b[39m>\u001b[39m \u001b[39m10\u001b[39m:\n\u001b[0;32m     17\u001b[0m         \u001b[39msum\u001b[39m \u001b[39m-\u001b[39m\u001b[39m=\u001b[39m matrix[row][num_of_removed]\n",
      "\u001b[1;31mTypeError\u001b[0m: list indices must be integers or slices, not str"
     ]
    }
   ],
   "source": [
    "n = int(input())\n",
    "while(n > 0):\n",
    "    size = int(input())\n",
    "    matrix = []\n",
    "    for i in range(size):\n",
    "        input_row = input().split(\" \")\n",
    "        matrix.append(input_row)\n",
    "\n",
    "    count = 0\n",
    "    \n",
    "    for row in range(size):\n",
    "        sum = 0\n",
    "        num_of_removed = 0\n",
    "        for i in matrix[row]:\n",
    "            sum += matrix[row][int(i)]\n",
    "            if i > 0 and sum > 10:\n",
    "                sum -= matrix[row][num_of_removed]\n",
    "            elif sum == 10:\n",
    "                count += 1\n",
    "\n",
    "    n -= 1"
   ]
  }
 ],
 "metadata": {
  "kernelspec": {
   "display_name": "Python 3.10.6 64-bit",
   "language": "python",
   "name": "python3"
  },
  "language_info": {
   "codemirror_mode": {
    "name": "ipython",
    "version": 3
   },
   "file_extension": ".py",
   "mimetype": "text/x-python",
   "name": "python",
   "nbconvert_exporter": "python",
   "pygments_lexer": "ipython3",
   "version": "3.10.6"
  },
  "orig_nbformat": 4,
  "vscode": {
   "interpreter": {
    "hash": "5ebe6008498e3d42f9e76fe818a4d9530df5258114415b15480701e6b49b9c8d"
   }
  }
 },
 "nbformat": 4,
 "nbformat_minor": 2
}
