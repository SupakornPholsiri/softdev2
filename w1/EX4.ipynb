{
 "cells": [
  {
   "cell_type": "code",
   "execution_count": 3,
   "metadata": {},
   "outputs": [],
   "source": [
    "class Solution:\n",
    "    def find_duplicate(self, arr):\n",
    "        duplicate = False\n",
    "\n",
    "        set_from_arr = set(arr)\n",
    "        if len(arr) != len(set_from_arr):\n",
    "            duplicate = True\n",
    "\n",
    "        if duplicate :\n",
    "            print(\"There are duplicate elements in the array.\")\n",
    "        else :\n",
    "            print(\"There is no duplicate element in the array.\")"
   ]
  },
  {
   "cell_type": "code",
   "execution_count": 4,
   "metadata": {},
   "outputs": [
    {
     "name": "stdout",
     "output_type": "stream",
     "text": [
      "There is no duplicate element in the array.\n",
      "There are duplicate elements in the array.\n",
      "There are duplicate elements in the array.\n"
     ]
    }
   ],
   "source": [
    "solution = Solution()\n",
    "solution.find_duplicate([1,2,3,4,5])\n",
    "solution.find_duplicate([1,1,2,9,6])\n",
    "solution.find_duplicate([5,9,11,4,5,7,9])"
   ]
  }
 ],
 "metadata": {
  "kernelspec": {
   "display_name": "Python 3.10.6 64-bit",
   "language": "python",
   "name": "python3"
  },
  "language_info": {
   "codemirror_mode": {
    "name": "ipython",
    "version": 3
   },
   "file_extension": ".py",
   "mimetype": "text/x-python",
   "name": "python",
   "nbconvert_exporter": "python",
   "pygments_lexer": "ipython3",
   "version": "3.10.6"
  },
  "orig_nbformat": 4,
  "vscode": {
   "interpreter": {
    "hash": "5ebe6008498e3d42f9e76fe818a4d9530df5258114415b15480701e6b49b9c8d"
   }
  }
 },
 "nbformat": 4,
 "nbformat_minor": 2
}
