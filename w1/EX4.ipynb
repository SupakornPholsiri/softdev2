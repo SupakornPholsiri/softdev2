{
 "cells": [
  {
   "cell_type": "code",
   "execution_count": null,
   "metadata": {},
   "outputs": [],
   "source": [
    "arr = [1,2,3,4,5,6,4]\n",
    "duplicate = False\n",
    "\n",
    "set_from_arr = set(arr)\n",
    "if len(arr) != len(set_from_arr):\n",
    "    duplicate = True\n",
    "\n",
    "if duplicate :\n",
    "    print(\"There are duplicate elements in the array.\")\n",
    "else :\n",
    "    print(\"There is no duplicate element in the array.\")"
   ]
  }
 ],
 "metadata": {
  "kernelspec": {
   "display_name": "Python 3.10.6 64-bit",
   "language": "python",
   "name": "python3"
  },
  "language_info": {
   "name": "python",
   "version": "3.10.6"
  },
  "orig_nbformat": 4,
  "vscode": {
   "interpreter": {
    "hash": "5ebe6008498e3d42f9e76fe818a4d9530df5258114415b15480701e6b49b9c8d"
   }
  }
 },
 "nbformat": 4,
 "nbformat_minor": 2
}
