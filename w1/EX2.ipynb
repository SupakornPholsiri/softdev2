{
 "cells": [
  {
   "cell_type": "code",
   "execution_count": null,
   "metadata": {},
   "outputs": [],
   "source": [
    "def plane(n):\n",
    "    if n == 1 :\n",
    "        return 2\n",
    "    elif n ==0:\n",
    "        return 1\n",
    "    else:\n",
    "        return plane(n-1)+n\n",
    "\n",
    "print(plane(5))"
   ]
  }
 ],
 "metadata": {
  "language_info": {
   "name": "python"
  },
  "orig_nbformat": 4
 },
 "nbformat": 4,
 "nbformat_minor": 2
}
