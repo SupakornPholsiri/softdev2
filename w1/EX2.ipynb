{
 "cells": [
  {
   "cell_type": "code",
   "execution_count": 9,
   "metadata": {},
   "outputs": [],
   "source": [
    "class Solution:\n",
    "    def plane(self,n):\n",
    "        if n ==0:\n",
    "            return 1\n",
    "        else:\n",
    "            return self.plane(n-1)+n"
   ]
  },
  {
   "cell_type": "code",
   "execution_count": 10,
   "metadata": {},
   "outputs": [
    {
     "name": "stdout",
     "output_type": "stream",
     "text": [
      "1\n",
      "2\n",
      "4\n",
      "7\n",
      "11\n",
      "16\n",
      "22\n",
      "29\n",
      "37\n",
      "46\n",
      "56\n",
      "67\n",
      "79\n",
      "92\n",
      "106\n",
      "121\n"
     ]
    }
   ],
   "source": [
    "solution = Solution()\n",
    "for i in range(16) :\n",
    "    print(solution.plane(i))"
   ]
  }
 ],
 "metadata": {
  "kernelspec": {
   "display_name": "Python 3.10.6 64-bit",
   "language": "python",
   "name": "python3"
  },
  "language_info": {
   "codemirror_mode": {
    "name": "ipython",
    "version": 3
   },
   "file_extension": ".py",
   "mimetype": "text/x-python",
   "name": "python",
   "nbconvert_exporter": "python",
   "pygments_lexer": "ipython3",
   "version": "3.10.6"
  },
  "orig_nbformat": 4,
  "vscode": {
   "interpreter": {
    "hash": "5ebe6008498e3d42f9e76fe818a4d9530df5258114415b15480701e6b49b9c8d"
   }
  }
 },
 "nbformat": 4,
 "nbformat_minor": 2
}
