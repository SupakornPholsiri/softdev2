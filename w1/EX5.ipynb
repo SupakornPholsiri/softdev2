{
 "cells": [
  {
   "cell_type": "code",
   "execution_count": 2,
   "metadata": {},
   "outputs": [],
   "source": [
    "class Solution:\n",
    "    def find_all_3_combination(self,array):\n",
    "        result = []\n",
    "        array.sort()\n",
    "        for i in range(len(array)-1):\n",
    "            x = array[i]\n",
    "            diff = 0 - x\n",
    "            left = i+1\n",
    "            right = len(array)-1\n",
    "            while(left != right):\n",
    "                sum = array[left] + array[right]\n",
    "                if sum == diff:\n",
    "                    result.append(\"(\"+str(array[i])+\" \"+str(array[left])+\" \"+str(array[right])+\")\")\n",
    "                    left += 1\n",
    "                elif sum < diff: left += 1\n",
    "                elif sum > diff: right -= 1\n",
    "        return result\n",
    "    \n",
    "    def show_all_3_combination(self, array):\n",
    "        all_combinations = self.find_all_3_combination(array)\n",
    "        for i in range(len(all_combinations)):\n",
    "            if i < len(all_combinations) - 1:\n",
    "                print(all_combinations[i], end = \", \")\n",
    "            else:\n",
    "                print(all_combinations[i])"
   ]
  },
  {
   "cell_type": "code",
   "execution_count": 4,
   "metadata": {},
   "outputs": [
    {
     "name": "stdout",
     "output_type": "stream",
     "text": [
      "(-3 1 2), (-2 0 2), (-1 0 1)\n",
      "(-45 11 34), (-17 0 17)\n"
     ]
    }
   ],
   "source": [
    "solution = Solution()\n",
    "solution.show_all_3_combination([0, -1, 2, -3, 1, -2])\n",
    "solution.show_all_3_combination([-45, 0, 17, 11, 34, -17, -1])\n",
    "solution.show_all_3_combination([-45, 0, 17, 11, 3, -18, -1])"
   ]
  }
 ],
 "metadata": {
  "kernelspec": {
   "display_name": "Python 3.10.6 64-bit",
   "language": "python",
   "name": "python3"
  },
  "language_info": {
   "codemirror_mode": {
    "name": "ipython",
    "version": 3
   },
   "file_extension": ".py",
   "mimetype": "text/x-python",
   "name": "python",
   "nbconvert_exporter": "python",
   "pygments_lexer": "ipython3",
   "version": "3.10.6"
  },
  "orig_nbformat": 4,
  "vscode": {
   "interpreter": {
    "hash": "5ebe6008498e3d42f9e76fe818a4d9530df5258114415b15480701e6b49b9c8d"
   }
  }
 },
 "nbformat": 4,
 "nbformat_minor": 2
}
