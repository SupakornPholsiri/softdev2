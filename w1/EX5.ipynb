{
 "cells": [
  {
   "cell_type": "code",
   "execution_count": null,
   "metadata": {},
   "outputs": [],
   "source": [
    "a = [0, -1, 2, -3, 1, -2]\n",
    "\n",
    "def find_all_combination(array):\n",
    "    result = []\n",
    "    array.sort()\n",
    "    for i in range(len(array)-1):\n",
    "        x = array[i]\n",
    "        diff = 0 - x\n",
    "        \n",
    "        left = i+1\n",
    "        right = len(array)-1\n",
    "        while(left != right):\n",
    "            sum = array[left] + array[right]\n",
    "            if sum == diff:\n",
    "                result.append(\"(\"+str(array[i])+\" \"+str(array[left])+\" \"+str(array[right])+\")\")\n",
    "                left += 1\n",
    "            elif sum < diff:\n",
    "                left += 1\n",
    "            elif sum > diff:\n",
    "                right -= 1\n",
    "    \n",
    "    return result\n",
    "\n",
    "print(find_all_combination(a))"
   ]
  }
 ],
 "metadata": {
  "language_info": {
   "name": "python"
  },
  "orig_nbformat": 4
 },
 "nbformat": 4,
 "nbformat_minor": 2
}
