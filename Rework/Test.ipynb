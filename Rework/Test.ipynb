{
 "cells": [
  {
   "cell_type": "code",
   "execution_count": 1,
   "metadata": {},
   "outputs": [
    {
     "name": "stdout",
     "output_type": "stream",
     "text": [
      "<class 'http.client.HTTPResponse'>\n",
      "b'User-agent: *\\nDisallow: /wp-admin/\\nDisallow: /wp-content/\\nDisallow: /search/\\nDisallow: /?blackhole\\nDisallow: /billion'\n"
     ]
    }
   ],
   "source": [
    "import urllib.request\n",
    "url_opened = urllib.request.urlopen(\"https://appdividend.com/robots.txt\")\n",
    "print(type(url_opened))\n",
    "print(url_opened.read())"
   ]
  },
  {
   "cell_type": "code",
   "execution_count": 9,
   "metadata": {},
   "outputs": [
    {
     "name": "stdout",
     "output_type": "stream",
     "text": [
      "User-agent: Yahoo Pipes 1.0\n",
      "Disallow: /\n",
      "\n",
      "User-agent: 008\n",
      "Disallow: /\n",
      "\n",
      "User-agent: voltron\n",
      "Disallow: /\n",
      "\n",
      "User-agent: Bytespider\n",
      "Disallow: /\n",
      "\n",
      "User-agent: Googlebot-Image\n",
      "Disallow: /%2A/ivc/%2A\n",
      "Disallow: /users/flair/\n",
      "Disallow: /jobs/n/%2A\n",
      "Disallow: /jobs/a/%2A\n",
      "Disallow: /jobs/companies/n/%2A\n",
      "Disallow: /jobs/companies/a/%2A\n",
      "\n",
      "User-agent: *\n",
      "Disallow: /posts/\n",
      "Disallow: /posts\n",
      "Disallow: /amzn/click/\n",
      "Disallow: /questions/ask/\n",
      "Disallow: /questions/ask\n",
      "Disallow: /search/\n",
      "Disallow: /search\n",
      "Disallow: /feeds/\n",
      "Disallow: /feeds\n",
      "Disallow: /users/login/\n",
      "Disallow: /users/login\n",
      "Disallow: /users/logout/\n",
      "Disallow: /users/logout\n",
      "Disallow: /users/filter/\n",
      "Disallow: /users/filter\n",
      "Disallow: /users/signup\n",
      "Disallow: /users/signup/\n",
      "Disallow: /users/signup\n",
      "Disallow: /users/authenticate/\n",
      "Disallow: /users/authenticate\n",
      "Disallow: /users/oauth/%2A\n",
      "Disallow: /users/flag-summary/\n",
      "Disallow: /users/flair/\n",
      "Disallow: /users/flair\n",
      "Disallow: /users/activity/\n",
      "Disallow: /users/activity/\n",
      "Disallow: /users/stats/\n",
      "Disallow: /users/%2A%3Ftab%3Daccounts\n",
      "Disallow: /users/%2A%3Ftab%3Dactivity\n",
      "Disallow: /users/rep/show\n",
      "Disallow: /users/rep/show\n",
      "Disallow: /users/prediction-data\n",
      "Disallow: /users/prediction-data/\n",
      "Disallow: /users/prediction-data\n",
      "Disallow: /unanswered/\n",
      "Disallow: /unanswered\n",
      "Disallow: /u/\n",
      "Disallow: /messages/\n",
      "Disallow: /api/%2A\n",
      "Disallow: /review/%2A\n",
      "Disallow: /%2A/ivc/%2A\n",
      "Disallow: /%2A%3Flastactivity\n",
      "Disallow: /users/login/global/request/\n",
      "Disallow: /users/login/global/request\n",
      "Disallow: /questions/%2Aanswertab%3D%2A\n",
      "Disallow: /questions/tagged/%2A%2B%2A\n",
      "Disallow: /questions/tagged/%2A%20%2A\n",
      "Disallow: /questions/%2A/answer/submit\n",
      "Disallow: /tags/%2A%2B%2A\n",
      "Disallow: /tags/%2A%20%2A\n",
      "Disallow: /suggested-edits/\n",
      "Disallow: /suggested-edits\n",
      "Disallow: /ajax/\n",
      "Disallow: /plugins/\n",
      "Disallow: /error\n",
      "Disallow: /gps/%2A\n",
      "Disallow: /10m\n",
      "Disallow: /jobs/cv/sign-up-and-create\n",
      "Disallow: /jobs/n/%2A\n",
      "Disallow: /jobs/a/%2A\n",
      "Disallow: /jobs/apply/%2A\n",
      "Disallow: /jobs/companies/n/%2A\n",
      "Disallow: /jobs/companies/a/%2A\n",
      "Disallow: /jobs/%2A/more-jobs-count\n",
      "Disallow: /jobs/email-job\n",
      "Disallow: /emails/%2A\n",
      "Disallow: /_/%2A\n",
      "Allow: /\n",
      "User-agent: *\n",
      "Disallow: /wp-admin/\n",
      "Disallow: /wp-content/\n",
      "Disallow: /search/\n",
      "Disallow: /%3Fblackhole\n",
      "Disallow: /billion\n"
     ]
    }
   ],
   "source": [
    "from SpiderV2 import Spider\n",
    "\n",
    "Spider.set_base_domains([\"https://stackoverflow.com/questions/295438/how-can-one-mock-stub-python-module-like-urllib\", \"https://appdividend.com\"])\n",
    "print(Spider.all_robots[Spider.base_domains[0]])\n",
    "print(Spider.all_robots[Spider.base_domains[1]])"
   ]
  },
  {
   "cell_type": "code",
   "execution_count": 6,
   "metadata": {},
   "outputs": [
    {
     "name": "stdout",
     "output_type": "stream",
     "text": [
      "c4ebc6d4a5832cd9415f906ad03661110c705a72381c8b8b145761d02e2dd23a\n",
      "c4ebc6d4a5832cd9415f906ad03661110c705a72381c8b8b145761d02e2dd23a\n"
     ]
    }
   ],
   "source": [
    "import hashlib\n",
    "\n",
    "print(hashlib.sha256(\"High\".encode()).hexdigest())\n",
    "print(hashlib.sha256(\"High\".encode()).hexdigest())"
   ]
  },
  {
   "cell_type": "code",
   "execution_count": 4,
   "metadata": {},
   "outputs": [
    {
     "name": "stdout",
     "output_type": "stream",
     "text": [
      "https://appdividend.com/category/cpp-c/\n",
      "https://appdividend.com/big-data-tutorial/\n",
      "https://appdividend.com/category/react/\n",
      "https://appdividend.com/2021/02/15/how-to-append-element-to-python-set/\n",
      "https://appdividend.com/category/laravel/\n",
      "https://appdividend.com/category/mongodb/\n",
      "https://appdividend.com/category/php/\n",
      "https://appdividend.com/\n",
      "http://appdividend.com/\n",
      "https://appdividend.com/category/angular/\n",
      "https://appdividend.com/category/node/\n",
      "https://appdividend.com/category/databases/\n",
      "https://appdividend.com/data-science-tutorial/\n",
      "https://appdividend.com/category/programming/\n",
      "https://appdividend.com/category/dart/\n",
      "https://appdividend.com/2021/02/03/how-to-pretty-print-json-file-in-python/\n",
      "https://appdividend.com/category/microsoft-azure/\n",
      "https://generatepress.com\n",
      "https://appdividend.com/category/javascript/typescript/\n",
      "https://appdividend.com/category/firebase/\n",
      "https://appdividend.com/terms-of-service/\n",
      "https://appdividend.com/category/sql/\n",
      "https://appdividend.com/2019/01/22/python-with-statement-tutorial-example/\n",
      "https://appdividend.com/category/machine-learning/\n",
      "https://appdividend.com/category/data-science/tableau/\n",
      "https://appdividend.com/category/javascript/\n",
      "https://appdividend.com/category/react-native/\n",
      "https://appdividend.com/cloud-computing-tutorial/\n",
      "https://akismet.com/privacy/\n",
      "https://appdividend.com/author/ankit6395/\n",
      "https://appdividend.com/category/framework/\n",
      "https://appdividend.com/contact-us/\n",
      "https://appdividend.com/about-us/\n",
      "https://appdividend.com/google-cloud-platform-tutorial/\n",
      "https://appdividend.com/privacy-policy/\n",
      "https://appdividend.com/category/mobile/\n",
      "https://appdividend.com/category/java/\n",
      "https://appdividend.com/2021/02/06/python-urllib-request-urlopen-function-with-example/#respond\n",
      "https://appdividend.com/category/aws/\n",
      "https://appdividend.com/category/vue/\n",
      "https://appdividend.com/2020/05/12/how-to-install-python-module-install-package-using-pip/\n",
      "https://appdividend.com/category/python/\n",
      "https://appdividend.com/category/go/\n",
      "https://appdividend.com/category/flutter/\n"
     ]
    }
   ],
   "source": [
    "from SpiderV2 import Spider\n",
    "\n",
    "Spider.set_base_domains([\"https://appdividend.com/\", \"https://stackoverflow.com\"])\n",
    "spooder = Spider(\"https://appdividend.com/2021/02/06/python-urllib-request-urlopen-function-with-example/\")\n",
    "success = spooder.generate_soup(\"https://appdividend.com/2021/02/06/python-urllib-request-urlopen-function-with-example/\")\n",
    "if success:\n",
    "    spooder.crawl({})\n",
    "else:\n",
    "    print(\"Cannot crawl to the website.\")"
   ]
  },
  {
   "cell_type": "code",
   "execution_count": 5,
   "metadata": {},
   "outputs": [
    {
     "name": "stdout",
     "output_type": "stream",
     "text": [
      "Cannot crawl to the website.\n"
     ]
    }
   ],
   "source": [
    "from SpiderV2 import Spider\n",
    "\n",
    "Spider.set_base_domains([\"https://appdividend.com/\", \"https://stackoverflow.com\"])\n",
    "spooder = Spider(\"https://appdividend.com/wp-content/\")\n",
    "success = spooder.generate_soup(\"https://appdividend.com/wp-content/\")\n",
    "if success:\n",
    "    spooder.crawl({})\n",
    "else:\n",
    "    print(\"Cannot crawl to the website.\")"
   ]
  },
  {
   "cell_type": "code",
   "execution_count": null,
   "metadata": {},
   "outputs": [],
   "source": []
  }
 ],
 "metadata": {
  "language_info": {
   "name": "python"
  },
  "orig_nbformat": 4
 },
 "nbformat": 4,
 "nbformat_minor": 2
}
