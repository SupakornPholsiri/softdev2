{
 "cells": [
  {
   "cell_type": "code",
   "execution_count": 3,
   "metadata": {},
   "outputs": [],
   "source": [
    "from SpiderV2 import Spider\n",
    "from IndexV2 import Database, Index, RawInfoIndex\n",
    "from Tokenize import Tokenize\n",
    "from Searcher import Search\n",
    "import time"
   ]
  },
  {
   "cell_type": "code",
   "execution_count": 4,
   "metadata": {},
   "outputs": [],
   "source": [
    "db = Database(SearchEngine=\"ForSpiderTest\")\n",
    "index = Index()\n",
    "raw_storage = RawInfoIndex()\n",
    "tokenizer = Tokenize()\n",
    "raw_storage.read_from_database(db)\n",
    "index.read_fw_index_from_database(db)\n",
    "index.read_ivi_index_from_database(db)"
   ]
  },
  {
   "cell_type": "code",
   "execution_count": 15,
   "metadata": {},
   "outputs": [
    {
     "name": "stdout",
     "output_type": "stream",
     "text": [
      "{'www.thairath.co.th': <urllib.robotparser.RobotFileParser object at 0x000001559C46EF20>, 'riskofrain.fandom.com': <urllib.robotparser.RobotFileParser object at 0x00000155C49C8430>, 'en.wikipedia.org': <urllib.robotparser.RobotFileParser object at 0x000001559C46ED70>, 'iot-kmutnb.github.io': None, 'riskofrain2.fandom.com': <urllib.robotparser.RobotFileParser object at 0x000001559C46DA20>}\n",
      "['https://riskofrain2.fandom.com/wiki/Risk_of_Rain_2_Wiki', 'https://www.fandom.com/what-is-fandom', 'https://riskofrain2.fandom.com/wiki/Commencement', 'https://bit.ly/TikTokFandom', 'https://twitter.com/RiskofRain', 'https://store.steampowered.com/app/632360/Risk_of_Rain_2/', 'https://riskofrain2.fandom.com/wiki/Artificer', 'https://riskofrain2.fandom.com/wiki/Items', 'https://www.fandom.com/about', 'https://www.fandom.com/topics/tv', 'https://riskofrain2.fandom.com/wiki/Abandoned_Aqueduct', 'http://www.gearboxpublishing.com/', 'https://riskofrain2.fandom.com/wiki/Abyssal_Depths', 'https://riskofrain2.fandom.com/wiki/Void_Locus', 'https://www.fandom.com/topics/movies', 'https://www.microsoft.com/en-us/p/risk-of-rain-2/9p6f6tbggvk3', 'https://riskofrain2.fandom.com/wiki/Huntress', 'https://auth.fandom.com/signin?redirect=https%3A%2F%2Friskofrain2.fandom.com%2Fwiki%2FRisk_of_Rain_2_Wiki', 'https://riskofrain2.fandom.com/wiki/Artifacts', 'https://riskofrain2.fandom.com/wiki/Gilded_Coast', 'https://riskofrain2.fandom.com/wiki/Commando', 'https://www.riskofrain.com/', 'https://riskofrain2.fandom.com/wiki/Modding', 'https://riskofrain2.fandom.com/wiki/Environments', 'https://apps.apple.com/us/app/fandom-videos-news-reviews/id1230063803', 'https://www.fandom.com/careers', 'http://hopoogames.com/', 'https://riskofrain2.fandom.com/wiki/Aphelian_Sanctuary', 'https://www.fandom.com/terms-of-use', 'https://discord.gg/KVSMKMP', 'https://riskofrain2.fandom.com/wiki/Damage', 'https://riskofrain2.fandom.com/wiki/Siren%27s_Call', 'https://www.fandom.com/do-not-sell-my-info', 'https://bit.ly/FandomIG', 'https://www.fandom.com/press', 'https://about.fandom.com/mediakit', 'https://twitter.com/getfandom', 'https://riskofrain2.fandom.com/wiki/Void_Fields', 'https://riskofrain2.fandom.com/wiki/Risk_of_Rain_2_Wiki/Section_2', 'https://riskofrain2.fandom.com/wiki/Version_History', 'https://riskofrain2.fandom.com/wiki/Interactables', 'https://www.muthead.com/', 'https://riskofrain2.fandom.com/wiki/Wetland_Aspect', 'https://riskofrain2.fandom.com/wiki/Loader', 'https://www.facebook.com/getfandom', 'https://riskofrain2.fandom.com/wiki/Bulwark%27s_Ambry', 'https://riskofrain2.fandom.com/wiki/Bandit', 'https://riskofrain2.fandom.com/wiki/Risk_of_Rain_2_Wiki?action=edit', 'https://riskofrain2.fandom.com/wiki/Challenges', 'https://riskofrain2.fandom.com/wiki/Lore', 'https://riskofrain2.fandom.com/wiki/Sky_Meadow', 'https://riskofrain2.fandom.com/wiki/MUL-T', 'https://riskofrain2.fandom.com/wiki/A_Moment,_Whole', 'https://riskofrain2.fandom.com/wiki/Void_Fiend', 'https://riskofrain2.fandom.com/wiki/Item_Stacking', 'https://riskofrain2.fandom.com/wiki/REX', 'https://riskofrain2.fandom.com/wiki/Alternate_Game_Modes', 'https://www.fandom.com/topics/games', 'https://riskofrain2.fandom.com/wiki/Rallypoint_Delta', 'https://fandom.zendesk.com/', 'https://www.fandom.com/explore', 'https://riskofrain2.fandom.com/wiki/Category:Risk_of_Rain_2_Wiki', 'https://riskofrain2.fandom.com/wiki/Engineer', 'https://riskofrain2.fandom.com/wiki/Local_Sitemap', 'https://stadia.google.com/u/1/store/details/7b6d79b833354dcaa9b2461086a7763crcp1/sku/5470776eda9b4270b049f081c6bc07ce', 'https://riskofrain2.fandom.com/wiki/Special:AllMaps', 'https://riskofrain2.fandom.com/wiki/The_Planetarium', 'https://riskofrain2.fandom.com/wiki/Sundered_Grove', 'http://bit.ly/en-spotlight-universalconquest', 'https://riskofrain2.fandom.com/wiki/Talk:Risk_of_Rain_2_Wiki', 'https://riskofrain2.fandom.com/wiki/Bazaar_Between_Time', 'https://riskofrain2.fandom.com/wiki/Sulfur_Pools', 'https://riskofrain2.fandom.com/wiki/Risk_of_Rain_2_Wiki?action=history', 'https://riskofrain2.fandom.com/wiki/Risk_of_Rain_2_Wiki:Community_portal', 'https://riskofrain2.fandom.com/wiki/Titanic_Plains', 'https://www.fandom.com/licensing', 'https://riskofrain2.fandom.com/wiki/A_Moment,_Fractured', 'https://riskofrain2.fandom.com/wiki/Mercenary', 'https://twitter.com/RiskOfRain', 'https://discord.gg/riskofrain2', 'https://riskofrain2.fandom.com/wiki/Heretic', 'https://riskofrain2.fandom.com/wiki/Acrid', 'https://auth.fandom.com/register?redirect=https%3A%2F%2Friskofrain2.fandom.com%2Fwiki%2FRisk_of_Rain_2_Wiki', 'https://riskofrain2.fandom.com/wiki/Newt_Altars', 'https://riskofrain2.fandom.com/wiki/Mechanics', 'https://riskofrain2.fandom.com/wiki/Risk_of_Rain_2_Wiki/Section_1', 'https://www.fandomatic.com', 'https://riskofrain2.fandom.com/wiki/Railgunner', 'https://www.instagram.com/getfandom/', 'https://riskofrain2.fandom.com/wiki/Risk_of_Rain_2_Wiki/Section_3', 'https://www.fandom.com/', 'https://letsgoluna.fandom.com/wiki/Let%27s_Go_Luna!_Wiki', 'https://riskofrain2.fandom.com/wiki/Status_Effects', 'https://riskofrain2.fandom.com/wiki/Distant_Roost', 'https://www.youtube.com/fandomentertainment', 'https://club57.fandom.com/wiki/Club_57_Wiki', 'https://www.fandom.com/topics/anime', 'https://bit.ly/FanLabWikiBar', 'https://riskofrain2.fandom.com/wiki/Risk_of_Rain_2_Wiki/Section_4', 'https://www.fandom.com/privacy-policy', 'https://store.steampowered.com/app/248820/Risk_of_Rain/', 'https://play.google.com/store/apps/details?id=com.fandom.app&referrer=utm_source%3Dwikia%26utm_medium%3Dglobalfooter', 'https://riskofrain2.fandom.com/wiki/Scorched_Acres', 'https://www.fanatical.com/', 'https://www.fandom.com/video', 'https://riskofrain2.fandom.com/wiki/Captain', 'https://riskofrain2.fandom.com/wiki/Siphoned_Forest', 'https://www.nintendo.com/games/detail/risk-of-rain-2-switch/', 'https://riskofrain2.fandom.com/wiki/Survivors', 'https://riskofrain2.fandom.com/wiki/Interactibles', 'https://riskofrain2.fandom.com/wiki/Monsters', 'https://riskofrain.fandom.com/wiki/Main_Page', 'https://www.futhead.com/', 'https://riskofrain2.fandom.com/wiki/Risk_of_Rain_2_Wiki:Admin_noticeboard', 'https://fandom.com/fancentral/home', 'https://www.linkedin.com/company/157252', 'https://riskofrain2.fandom.com/wiki/Soundtrack', 'https://store.playstation.com/en-us/product/UP0292-CUSA16153_00-RISKOFRAIN2SIEA0', 'https://www.fandom.com/what-is-fandom', 'https://bit.ly/TikTokFandom', 'https://twitter.com/RiskofRain', 'https://store.steampowered.com/app/632360/Risk_of_Rain_2/', 'https://www.fandom.com/about', 'https://www.fandom.com/topics/tv', 'http://www.gearboxpublishing.com/', 'https://www.fandom.com/topics/movies', 'https://www.microsoft.com/en-us/p/risk-of-rain-2/9p6f6tbggvk3', 'https://auth.fandom.com/signin?redirect=https%3A%2F%2Friskofrain2.fandom.com%2Fwiki%2FRisk_of_Rain_2_Wiki', 'https://www.riskofrain.com/', 'https://apps.apple.com/us/app/fandom-videos-news-reviews/id1230063803', 'https://www.fandom.com/careers', 'http://hopoogames.com/', 'https://www.fandom.com/terms-of-use', 'https://discord.gg/KVSMKMP', 'https://www.fandom.com/do-not-sell-my-info', 'https://bit.ly/FandomIG', 'https://www.fandom.com/press', 'https://about.fandom.com/mediakit', 'https://twitter.com/getfandom', 'https://www.muthead.com/', 'https://www.facebook.com/getfandom', 'https://www.fandom.com/topics/games', 'https://fandom.zendesk.com/', 'https://www.fandom.com/explore', 'https://stadia.google.com/u/1/store/details/7b6d79b833354dcaa9b2461086a7763crcp1/sku/5470776eda9b4270b049f081c6bc07ce', 'http://bit.ly/en-spotlight-universalconquest', 'https://www.fandom.com/licensing', 'https://twitter.com/RiskOfRain', 'https://discord.gg/riskofrain2', 'https://auth.fandom.com/register?redirect=https%3A%2F%2Friskofrain2.fandom.com%2Fwiki%2FRisk_of_Rain_2_Wiki', 'https://www.fandomatic.com', 'https://www.instagram.com/getfandom/', 'https://www.fandom.com/', 'https://letsgoluna.fandom.com/wiki/Let%27s_Go_Luna!_Wiki', 'https://www.youtube.com/fandomentertainment', 'https://club57.fandom.com/wiki/Club_57_Wiki', 'https://www.fandom.com/topics/anime', 'https://bit.ly/FanLabWikiBar', 'https://www.fandom.com/privacy-policy', 'https://store.steampowered.com/app/248820/Risk_of_Rain/', 'https://play.google.com/store/apps/details?id=com.fandom.app&referrer=utm_source%3Dwikia%26utm_medium%3Dglobalfooter', 'https://www.fanatical.com/', 'https://www.fandom.com/video', 'https://www.nintendo.com/games/detail/risk-of-rain-2-switch/', 'https://www.futhead.com/', 'https://fandom.com/fancentral/home', 'https://www.linkedin.com/company/157252', 'https://store.playstation.com/en-us/product/UP0292-CUSA16153_00-RISKOFRAIN2SIEA0', 'https://www.fandom.com/what-is-fandom', 'https://bit.ly/TikTokFandom', 'https://twitter.com/RiskofRain', 'https://store.steampowered.com/app/632360/Risk_of_Rain_2/', 'https://www.fandom.com/about', 'https://www.fandom.com/topics/tv', 'http://www.gearboxpublishing.com/', 'https://www.fandom.com/topics/movies', 'https://www.microsoft.com/en-us/p/risk-of-rain-2/9p6f6tbggvk3', 'https://auth.fandom.com/signin?redirect=https%3A%2F%2Friskofrain2.fandom.com%2Fwiki%2FRisk_of_Rain_2_Wiki', 'https://www.riskofrain.com/', 'https://apps.apple.com/us/app/fandom-videos-news-reviews/id1230063803', 'https://www.fandom.com/careers', 'http://hopoogames.com/', 'https://www.fandom.com/terms-of-use', 'https://discord.gg/KVSMKMP', 'https://www.fandom.com/do-not-sell-my-info', 'https://bit.ly/FandomIG', 'https://www.fandom.com/press', 'https://about.fandom.com/mediakit', 'https://twitter.com/getfandom', 'https://www.muthead.com/', 'https://www.facebook.com/getfandom', 'https://www.fandom.com/topics/games', 'https://fandom.zendesk.com/', 'https://www.fandom.com/explore', 'https://stadia.google.com/u/1/store/details/7b6d79b833354dcaa9b2461086a7763crcp1/sku/5470776eda9b4270b049f081c6bc07ce', 'http://bit.ly/en-spotlight-universalconquest', 'https://www.fandom.com/licensing', 'https://twitter.com/RiskOfRain', 'https://discord.gg/riskofrain2', 'https://auth.fandom.com/register?redirect=https%3A%2F%2Friskofrain2.fandom.com%2Fwiki%2FRisk_of_Rain_2_Wiki', 'https://www.fandomatic.com', 'https://www.instagram.com/getfandom/', 'https://www.fandom.com/', 'https://letsgoluna.fandom.com/wiki/Let%27s_Go_Luna!_Wiki', 'https://www.youtube.com/fandomentertainment', 'https://club57.fandom.com/wiki/Club_57_Wiki', 'https://www.fandom.com/topics/anime', 'https://bit.ly/FanLabWikiBar', 'https://www.fandom.com/privacy-policy', 'https://store.steampowered.com/app/248820/Risk_of_Rain/', 'https://play.google.com/store/apps/details?id=com.fandom.app&referrer=utm_source%3Dwikia%26utm_medium%3Dglobalfooter', 'https://www.fanatical.com/', 'https://www.fandom.com/video', 'https://www.nintendo.com/games/detail/risk-of-rain-2-switch/', 'https://www.futhead.com/', 'https://fandom.com/fancentral/home', 'https://www.linkedin.com/company/157252', 'https://store.playstation.com/en-us/product/UP0292-CUSA16153_00-RISKOFRAIN2SIEA0', 'https://www.fandom.com/what-is-fandom', 'https://bit.ly/TikTokFandom', 'https://twitter.com/RiskofRain', 'https://store.steampowered.com/app/632360/Risk_of_Rain_2/', 'https://www.fandom.com/about', 'https://www.fandom.com/topics/tv', 'http://www.gearboxpublishing.com/', 'https://www.fandom.com/topics/movies', 'https://www.microsoft.com/en-us/p/risk-of-rain-2/9p6f6tbggvk3', 'https://auth.fandom.com/signin?redirect=https%3A%2F%2Friskofrain2.fandom.com%2Fwiki%2FRisk_of_Rain_2_Wiki', 'https://www.riskofrain.com/', 'https://apps.apple.com/us/app/fandom-videos-news-reviews/id1230063803', 'https://www.fandom.com/careers', 'http://hopoogames.com/', 'https://www.fandom.com/terms-of-use', 'https://discord.gg/KVSMKMP', 'https://www.fandom.com/do-not-sell-my-info', 'https://bit.ly/FandomIG', 'https://www.fandom.com/press', 'https://about.fandom.com/mediakit', 'https://twitter.com/getfandom', 'https://www.muthead.com/', 'https://www.facebook.com/getfandom', 'https://www.fandom.com/topics/games', 'https://fandom.zendesk.com/', 'https://www.fandom.com/explore', 'https://stadia.google.com/u/1/store/details/7b6d79b833354dcaa9b2461086a7763crcp1/sku/5470776eda9b4270b049f081c6bc07ce', 'http://bit.ly/en-spotlight-universalconquest', 'https://www.fandom.com/licensing', 'https://twitter.com/RiskOfRain', 'https://discord.gg/riskofrain2', 'https://auth.fandom.com/register?redirect=https%3A%2F%2Friskofrain2.fandom.com%2Fwiki%2FRisk_of_Rain_2_Wiki', 'https://www.fandomatic.com', 'https://www.instagram.com/getfandom/', 'https://www.fandom.com/', 'https://letsgoluna.fandom.com/wiki/Let%27s_Go_Luna!_Wiki', 'https://www.youtube.com/fandomentertainment', 'https://club57.fandom.com/wiki/Club_57_Wiki', 'https://www.fandom.com/topics/anime', 'https://bit.ly/FanLabWikiBar', 'https://www.fandom.com/privacy-policy', 'https://store.steampowered.com/app/248820/Risk_of_Rain/', 'https://play.google.com/store/apps/details?id=com.fandom.app&referrer=utm_source%3Dwikia%26utm_medium%3Dglobalfooter', 'https://www.fanatical.com/', 'https://www.fandom.com/video', 'https://www.nintendo.com/games/detail/risk-of-rain-2-switch/', 'https://www.futhead.com/', 'https://fandom.com/fancentral/home', 'https://www.linkedin.com/company/157252', 'https://store.playstation.com/en-us/product/UP0292-CUSA16153_00-RISKOFRAIN2SIEA0', 'https://www.thairath.co.th/news/local/bangkok/2635906', 'https://www.fandom.com/what-is-fandom', 'https://bit.ly/TikTokFandom', 'https://twitter.com/RiskofRain', 'https://store.steampowered.com/app/632360/Risk_of_Rain_2/', 'https://www.fandom.com/about', 'https://www.fandom.com/topics/tv', 'http://www.gearboxpublishing.com/', 'https://www.fandom.com/topics/movies', 'https://www.microsoft.com/en-us/p/risk-of-rain-2/9p6f6tbggvk3', 'https://auth.fandom.com/signin?redirect=https%3A%2F%2Friskofrain2.fandom.com%2Fwiki%2FRisk_of_Rain_2_Wiki', 'https://www.riskofrain.com/', 'https://apps.apple.com/us/app/fandom-videos-news-reviews/id1230063803', 'https://www.fandom.com/careers', 'http://hopoogames.com/', 'https://www.fandom.com/terms-of-use', 'https://discord.gg/KVSMKMP', 'https://www.fandom.com/do-not-sell-my-info', 'https://bit.ly/FandomIG', 'https://www.fandom.com/press', 'https://about.fandom.com/mediakit', 'https://twitter.com/getfandom', 'https://www.muthead.com/', 'https://www.facebook.com/getfandom', 'https://www.fandom.com/topics/games', 'https://fandom.zendesk.com/', 'https://www.fandom.com/explore', 'https://stadia.google.com/u/1/store/details/7b6d79b833354dcaa9b2461086a7763crcp1/sku/5470776eda9b4270b049f081c6bc07ce', 'http://bit.ly/en-spotlight-universalconquest', 'https://www.fandom.com/licensing', 'https://twitter.com/RiskOfRain', 'https://discord.gg/riskofrain2', 'https://auth.fandom.com/register?redirect=https%3A%2F%2Friskofrain2.fandom.com%2Fwiki%2FRisk_of_Rain_2_Wiki', 'https://www.fandomatic.com', 'https://www.instagram.com/getfandom/', 'https://www.fandom.com/', 'https://letsgoluna.fandom.com/wiki/Let%27s_Go_Luna!_Wiki', 'https://www.youtube.com/fandomentertainment', 'https://club57.fandom.com/wiki/Club_57_Wiki', 'https://www.fandom.com/topics/anime', 'https://bit.ly/FanLabWikiBar', 'https://www.fandom.com/privacy-policy', 'https://store.steampowered.com/app/248820/Risk_of_Rain/', 'https://play.google.com/store/apps/details?id=com.fandom.app&referrer=utm_source%3Dwikia%26utm_medium%3Dglobalfooter', 'https://www.fanatical.com/', 'https://www.fandom.com/video', 'https://www.nintendo.com/games/detail/risk-of-rain-2-switch/', 'https://www.futhead.com/', 'https://fandom.com/fancentral/home', 'https://www.linkedin.com/company/157252', 'https://store.playstation.com/en-us/product/UP0292-CUSA16153_00-RISKOFRAIN2SIEA0', 'https://www.fandom.com/what-is-fandom', 'https://bit.ly/TikTokFandom', 'https://twitter.com/RiskofRain', 'https://store.steampowered.com/app/632360/Risk_of_Rain_2/', 'https://www.fandom.com/about', 'https://www.fandom.com/topics/tv', 'http://www.gearboxpublishing.com/', 'https://www.fandom.com/topics/movies', 'https://www.microsoft.com/en-us/p/risk-of-rain-2/9p6f6tbggvk3', 'https://auth.fandom.com/signin?redirect=https%3A%2F%2Friskofrain2.fandom.com%2Fwiki%2FRisk_of_Rain_2_Wiki', 'https://www.riskofrain.com/', 'https://apps.apple.com/us/app/fandom-videos-news-reviews/id1230063803', 'https://www.fandom.com/careers', 'http://hopoogames.com/', 'https://www.fandom.com/terms-of-use', 'https://discord.gg/KVSMKMP', 'https://www.fandom.com/do-not-sell-my-info', 'https://bit.ly/FandomIG', 'https://www.fandom.com/press', 'https://about.fandom.com/mediakit', 'https://twitter.com/getfandom', 'https://www.muthead.com/', 'https://www.facebook.com/getfandom', 'https://www.fandom.com/topics/games', 'https://fandom.zendesk.com/', 'https://www.fandom.com/explore', 'https://stadia.google.com/u/1/store/details/7b6d79b833354dcaa9b2461086a7763crcp1/sku/5470776eda9b4270b049f081c6bc07ce', 'http://bit.ly/en-spotlight-universalconquest', 'https://www.fandom.com/licensing', 'https://twitter.com/RiskOfRain', 'https://discord.gg/riskofrain2', 'https://auth.fandom.com/register?redirect=https%3A%2F%2Friskofrain2.fandom.com%2Fwiki%2FRisk_of_Rain_2_Wiki', 'https://www.fandomatic.com', 'https://www.instagram.com/getfandom/', 'https://www.fandom.com/', 'https://letsgoluna.fandom.com/wiki/Let%27s_Go_Luna!_Wiki', 'https://www.youtube.com/fandomentertainment', 'https://club57.fandom.com/wiki/Club_57_Wiki', 'https://www.fandom.com/topics/anime', 'https://bit.ly/FanLabWikiBar', 'https://www.fandom.com/privacy-policy', 'https://store.steampowered.com/app/248820/Risk_of_Rain/', 'https://play.google.com/store/apps/details?id=com.fandom.app&referrer=utm_source%3Dwikia%26utm_medium%3Dglobalfooter', 'https://www.fanatical.com/', 'https://www.fandom.com/video', 'https://www.nintendo.com/games/detail/risk-of-rain-2-switch/', 'https://www.futhead.com/', 'https://fandom.com/fancentral/home', 'https://www.linkedin.com/company/157252', 'https://store.playstation.com/en-us/product/UP0292-CUSA16153_00-RISKOFRAIN2SIEA0', 'https://www.fandom.com/what-is-fandom', 'https://bit.ly/TikTokFandom', 'https://twitter.com/RiskofRain', 'https://store.steampowered.com/app/632360/Risk_of_Rain_2/', 'https://www.fandom.com/about', 'https://www.fandom.com/topics/tv', 'http://www.gearboxpublishing.com/', 'https://www.fandom.com/topics/movies', 'https://www.microsoft.com/en-us/p/risk-of-rain-2/9p6f6tbggvk3', 'https://auth.fandom.com/signin?redirect=https%3A%2F%2Friskofrain2.fandom.com%2Fwiki%2FRisk_of_Rain_2_Wiki', 'https://www.riskofrain.com/', 'https://apps.apple.com/us/app/fandom-videos-news-reviews/id1230063803', 'https://www.fandom.com/careers', 'http://hopoogames.com/', 'https://www.fandom.com/terms-of-use', 'https://discord.gg/KVSMKMP', 'https://www.fandom.com/do-not-sell-my-info', 'https://bit.ly/FandomIG', 'https://www.fandom.com/press', 'https://about.fandom.com/mediakit', 'https://twitter.com/getfandom', 'https://www.muthead.com/', 'https://www.facebook.com/getfandom', 'https://www.fandom.com/topics/games', 'https://fandom.zendesk.com/', 'https://www.fandom.com/explore', 'https://stadia.google.com/u/1/store/details/7b6d79b833354dcaa9b2461086a7763crcp1/sku/5470776eda9b4270b049f081c6bc07ce', 'http://bit.ly/en-spotlight-universalconquest', 'https://www.fandom.com/licensing', 'https://twitter.com/RiskOfRain', 'https://discord.gg/riskofrain2', 'https://auth.fandom.com/register?redirect=https%3A%2F%2Friskofrain2.fandom.com%2Fwiki%2FRisk_of_Rain_2_Wiki', 'https://www.fandomatic.com', 'https://www.instagram.com/getfandom/', 'https://www.fandom.com/', 'https://letsgoluna.fandom.com/wiki/Let%27s_Go_Luna!_Wiki', 'https://www.youtube.com/fandomentertainment', 'https://club57.fandom.com/wiki/Club_57_Wiki', 'https://www.fandom.com/topics/anime', 'https://bit.ly/FanLabWikiBar', 'https://www.fandom.com/privacy-policy', 'https://store.steampowered.com/app/248820/Risk_of_Rain/', 'https://play.google.com/store/apps/details?id=com.fandom.app&referrer=utm_source%3Dwikia%26utm_medium%3Dglobalfooter', 'https://www.fanatical.com/', 'https://www.fandom.com/video', 'https://www.nintendo.com/games/detail/risk-of-rain-2-switch/', 'https://www.futhead.com/', 'https://fandom.com/fancentral/home', 'https://www.linkedin.com/company/157252', 'https://store.playstation.com/en-us/product/UP0292-CUSA16153_00-RISKOFRAIN2SIEA0']\n"
     ]
    }
   ],
   "source": [
    "\n",
    "url = \"https://www.thairath.co.th/news/local/bangkok/2635906\"\n",
    "#\"https://en.wikipedia.org/wiki/Climate_change\", \"https://riskofrain.fandom.com/wiki/Main_Page\", \"https://www.thairath.co.th/news/local/bangkok/2635906\" \n",
    "Spider.set_base_domains([\"https://www.thairath.co.th/\", \"https://www.thairath.co.th/\", \"https://riskofrain.fandom.com/wiki/Main_Page\", \"https://en.wikipedia.org/\", \"https://iot-kmutnb.github.io/\", \"https://riskofrain2.fandom.com/\"])\n",
    "print(Spider.all_robots)\n",
    "print(Spider.queue)\n",
    "Spider.queue_front = 0\n",
    "Spider.queue_back = 1\n",
    "Spider.depth = 0\n",
    "\n",
    "spider = Spider(url)\n",
    "success = spider.generate_next_soup()\n",
    "\n",
    "raw_storage.read_from_database(db)\n",
    "\n",
    "if success:\n",
    "    info = spider.crawl({})\n",
    "    raw_storage.modify_index(Spider.queue[Spider.queue_front-1], info[0], info[1], info[2])\n",
    "    raw_storage.save_to_database(db)\n",
    "else:\n",
    "    if Spider.get_base_domain(url) in Spider.all_robots:\n",
    "        Spider.unaccessible_urls.append(url)\n",
    "    print(\"Cannot crawl to the website.\")"
   ]
  },
  {
   "cell_type": "code",
   "execution_count": 8,
   "metadata": {},
   "outputs": [],
   "source": [
    "for url in raw_storage.index:\n",
    "    tokens = tokenizer.tokenize(raw_storage.index[url][\"text\"])\n",
    "    tokens = tokenizer.filter(tokens)\n",
    "    tokens = tokenizer.make_counter(tokens)\n",
    "    index.modify_index(url, tokens)\n",
    "raw_storage.save_to_database(db)\n",
    "index.save_fw_index_to_database(db)\n",
    "index.save_ivi_index_to_database(db)"
   ]
  },
  {
   "cell_type": "code",
   "execution_count": 5,
   "metadata": {},
   "outputs": [
    {
     "name": "stdout",
     "output_type": "stream",
     "text": [
      "1\n"
     ]
    }
   ],
   "source": [
    "print(raw_storage.get_ref_count(\"https://riskofrain.fandom.com/wiki/Main_Page\"))"
   ]
  },
  {
   "cell_type": "code",
   "execution_count": 7,
   "metadata": {},
   "outputs": [],
   "source": [
    "raw_storage.remove_urls([\"https://riskofrain2.fandom.com/wiki/Risk_of_Rain_2_Wiki\"])\n",
    "index.remove_urls(raw_storage.url_to_be_deleted)"
   ]
  },
  {
   "cell_type": "code",
   "execution_count": 9,
   "metadata": {},
   "outputs": [
    {
     "name": "stdout",
     "output_type": "stream",
     "text": [
      "{'https://en.wikipedia.org/wiki/Climate_change': 39, 'https://riskofrain.fandom.com/wiki/Main_Page': 26, 'https://riskofrain2.fandom.com/wiki/Risk_of_Rain_2_Wiki': 18}\n"
     ]
    }
   ],
   "source": [
    "print(index.ivi_index[\"risk\"])"
   ]
  },
  {
   "cell_type": "code",
   "execution_count": 10,
   "metadata": {},
   "outputs": [
    {
     "name": "stdout",
     "output_type": "stream",
     "text": [
      "[('https://iot-kmutnb.github.io/blogs', 0.08881312865035303, 0, {})]\n"
     ]
    }
   ],
   "source": [
    "print(Search().search([\"arduino\", \"and\", \"python\"], raw_storage.index, index.fw_index, index.ivi_index))"
   ]
  }
 ],
 "metadata": {
  "kernelspec": {
   "display_name": "Python 3",
   "language": "python",
   "name": "python3"
  },
  "language_info": {
   "codemirror_mode": {
    "name": "ipython",
    "version": 3
   },
   "file_extension": ".py",
   "mimetype": "text/x-python",
   "name": "python",
   "nbconvert_exporter": "python",
   "pygments_lexer": "ipython3",
   "version": "3.10.6"
  },
  "orig_nbformat": 4
 },
 "nbformat": 4,
 "nbformat_minor": 2
}
