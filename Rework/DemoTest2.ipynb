{
 "cells": [
  {
   "cell_type": "code",
   "execution_count": 1,
   "metadata": {},
   "outputs": [],
   "source": [
    "from SpiderV2 import Spider\n",
    "from IndexV2 import Database, Index, RawInfoIndex\n",
    "from Tokenize import Tokenize\n",
    "from Searcher import Search\n",
    "import time"
   ]
  },
  {
   "cell_type": "code",
   "execution_count": 2,
   "metadata": {},
   "outputs": [],
   "source": [
    "db = Database(SearchEngine=\"Demo2\")\n",
    "index = Index()\n",
    "raw_storage = RawInfoIndex()\n",
    "tokenizer = Tokenize()\n",
    "raw_storage.read_from_database(db)\n",
    "index.read_fw_index_from_database(db)\n",
    "index.read_ivi_index_from_database(db)"
   ]
  },
  {
   "cell_type": "code",
   "execution_count": 1,
   "metadata": {},
   "outputs": [
    {
     "ename": "NameError",
     "evalue": "name 'Spider' is not defined",
     "output_type": "error",
     "traceback": [
      "\u001b[1;31m---------------------------------------------------------------------------\u001b[0m",
      "\u001b[1;31mNameError\u001b[0m                                 Traceback (most recent call last)",
      "\u001b[1;32mc:\\Users\\supak\\Documents\\GitHub\\softdev2\\Rework\\DemoTest2.ipynb Cell 3\u001b[0m in \u001b[0;36m3\n\u001b[0;32m      <a href='vscode-notebook-cell:/c%3A/Users/supak/Documents/GitHub/softdev2/Rework/DemoTest2.ipynb#W2sZmlsZQ%3D%3D?line=0'>1</a>\u001b[0m url \u001b[39m=\u001b[39m \u001b[39m\"\u001b[39m\u001b[39mhttps://riskofrain2.fandom.com/wiki/Risk_of_Rain_2_Wiki\u001b[39m\u001b[39m\"\u001b[39m\n\u001b[0;32m      <a href='vscode-notebook-cell:/c%3A/Users/supak/Documents/GitHub/softdev2/Rework/DemoTest2.ipynb#W2sZmlsZQ%3D%3D?line=1'>2</a>\u001b[0m \u001b[39m#\"https://en.wikipedia.org/wiki/Climate_change\", \"https://riskofrain.fandom.com/wiki/Main_Page\", \"https://www.thairath.co.th/news/local/bangkok/2635906\" \u001b[39;00m\n\u001b[1;32m----> <a href='vscode-notebook-cell:/c%3A/Users/supak/Documents/GitHub/softdev2/Rework/DemoTest2.ipynb#W2sZmlsZQ%3D%3D?line=2'>3</a>\u001b[0m Spider\u001b[39m.\u001b[39mset_base_domains([\u001b[39m\"\u001b[39m\u001b[39mhttps://www.thairath.co.th/\u001b[39m\u001b[39m\"\u001b[39m, \u001b[39m\"\u001b[39m\u001b[39mhttps://riskofrain.fandom.com/wiki/Main_Page\u001b[39m\u001b[39m\"\u001b[39m, \u001b[39m\"\u001b[39m\u001b[39mhttps://en.wikipedia.org/\u001b[39m\u001b[39m\"\u001b[39m, \u001b[39m\"\u001b[39m\u001b[39mhttps://iot-kmutnb.github.io/\u001b[39m\u001b[39m\"\u001b[39m, \u001b[39m\"\u001b[39m\u001b[39mhttps://riskofrain2.fandom.com/\u001b[39m\u001b[39m\"\u001b[39m])\n\u001b[0;32m      <a href='vscode-notebook-cell:/c%3A/Users/supak/Documents/GitHub/softdev2/Rework/DemoTest2.ipynb#W2sZmlsZQ%3D%3D?line=3'>4</a>\u001b[0m Spider\u001b[39m.\u001b[39mmax_depth \u001b[39m=\u001b[39m \u001b[39m0\u001b[39m\n\u001b[0;32m      <a href='vscode-notebook-cell:/c%3A/Users/supak/Documents/GitHub/softdev2/Rework/DemoTest2.ipynb#W2sZmlsZQ%3D%3D?line=5'>6</a>\u001b[0m spider \u001b[39m=\u001b[39m Spider(url)\n",
      "\u001b[1;31mNameError\u001b[0m: name 'Spider' is not defined"
     ]
    }
   ],
   "source": [
    "\n",
    "url = \"https://riskofrain2.fandom.com/wiki/Risk_of_Rain_2_Wiki\"\n",
    "#\"https://en.wikipedia.org/wiki/Climate_change\", \"https://riskofrain.fandom.com/wiki/Main_Page\", \"https://www.thairath.co.th/news/local/bangkok/2635906\" \n",
    "Spider.set_base_domains([\"https://www.thairath.co.th/\", \"https://riskofrain.fandom.com/wiki/Main_Page\", \"https://en.wikipedia.org/\", \"https://iot-kmutnb.github.io/\", \"https://riskofrain2.fandom.com/\"])\n",
    "Spider.max_depth = 0\n",
    "\n",
    "spider = Spider(url)\n",
    "success = spider.generate_next_soup()\n",
    "\n",
    "raw_storage.read_from_database(db)\n",
    "\n",
    "if success:\n",
    "    info = spider.crawl({})\n",
    "    raw_storage.modify_index(Spider.queue[Spider.queue_front-1], info[0], info[1], info[2])\n",
    "    raw_storage.save_to_database(db)\n",
    "else:\n",
    "    if Spider.get_base_domain(url) in Spider.all_robots:\n",
    "        Spider.unaccessible_urls.append(url)\n",
    "    print(\"Cannot crawl to the website.\")"
   ]
  },
  {
   "cell_type": "code",
   "execution_count": 3,
   "metadata": {},
   "outputs": [],
   "source": [
    "for url in raw_storage.index:\n",
    "    tokens = tokenizer.tokenize(raw_storage.index[url][\"text\"])\n",
    "    tokens = tokenizer.filter(tokens)\n",
    "    tokens = tokenizer.make_counter(tokens)\n",
    "    index.modify_index(url, tokens)\n",
    "raw_storage.save_to_database(db)\n",
    "index.save_fw_index_to_database(db)\n",
    "index.save_ivi_index_to_database(db)"
   ]
  },
  {
   "cell_type": "code",
   "execution_count": 5,
   "metadata": {},
   "outputs": [
    {
     "name": "stdout",
     "output_type": "stream",
     "text": [
      "1\n"
     ]
    }
   ],
   "source": [
    "print(raw_storage.get_ref_count(\"https://riskofrain.fandom.com/wiki/Main_Page\"))"
   ]
  },
  {
   "cell_type": "code",
   "execution_count": 7,
   "metadata": {},
   "outputs": [],
   "source": [
    "raw_storage.remove_urls([\"https://riskofrain2.fandom.com/wiki/Risk_of_Rain_2_Wiki\"])\n",
    "index.remove_urls(raw_storage.url_to_be_deleted)"
   ]
  },
  {
   "cell_type": "code",
   "execution_count": 10,
   "metadata": {},
   "outputs": [
    {
     "name": "stdout",
     "output_type": "stream",
     "text": [
      "{'https://en.wikipedia.org/wiki/Climate_change': 39, 'https://riskofrain.fandom.com/wiki/Main_Page': 26, 'https://riskofrain2.fandom.com/wiki/Risk_of_Rain_2_Wiki': 18}\n"
     ]
    }
   ],
   "source": [
    "print(index.ivi_index[\"risk\"])"
   ]
  },
  {
   "cell_type": "code",
   "execution_count": 4,
   "metadata": {},
   "outputs": [
    {
     "name": "stdout",
     "output_type": "stream",
     "text": [
      "0.03174749011659252\n",
      "0.24965436127615284\n",
      "0.19964588775409575\n",
      "[('https://riskofrain.fandom.com/wiki/Main_Page', 0.26965436127615283, 1, {}), ('https://riskofrain2.fandom.com/wiki/Risk_of_Rain_2_Wiki', 0.21964588775409574, 1, {}), ('https://en.wikipedia.org/wiki/Climate_change', 0.03174749011659252, 0, {})]\n"
     ]
    }
   ],
   "source": [
    "print(Search().search([\"risk\",\"of\",\"rain\"], raw_storage.index, index.fw_index, index.ivi_index))"
   ]
  }
 ],
 "metadata": {
  "kernelspec": {
   "display_name": "Python 3",
   "language": "python",
   "name": "python3"
  },
  "language_info": {
   "codemirror_mode": {
    "name": "ipython",
    "version": 3
   },
   "file_extension": ".py",
   "mimetype": "text/x-python",
   "name": "python",
   "nbconvert_exporter": "python",
   "pygments_lexer": "ipython3",
   "version": "3.10.6"
  },
  "orig_nbformat": 4
 },
 "nbformat": 4,
 "nbformat_minor": 2
}
