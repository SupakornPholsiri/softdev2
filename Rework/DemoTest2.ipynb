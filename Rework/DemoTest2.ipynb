{
 "cells": [
  {
   "cell_type": "code",
   "execution_count": 1,
   "metadata": {},
   "outputs": [],
   "source": [
    "from SpiderV2 import Spider\n",
    "from IndexV2 import Database, NewIndex2, RawInfoIndex\n",
    "from Tokenize import Tokenize\n",
    "import time"
   ]
  },
  {
   "cell_type": "code",
   "execution_count": 2,
   "metadata": {},
   "outputs": [],
   "source": [
    "db = Database(SearchEngine=\"Demo2\")\n",
    "index = NewIndex2()\n",
    "raw_storage = RawInfoIndex()"
   ]
  },
  {
   "cell_type": "code",
   "execution_count": 7,
   "metadata": {},
   "outputs": [
    {
     "name": "stdout",
     "output_type": "stream",
     "text": [
      "Cannot crawl to the website.\n"
     ]
    }
   ],
   "source": [
    "\n",
    "url = \"https://iot-kmutnb.github.io/\"\n",
    "#\"https://en.wikipedia.org/wiki/Climate_change\", \"https://riskofrain.fandom.com/wiki/Main_Page\", \"https://www.thairath.co.th/news/local/bangkok/2635906\" \n",
    "Spider.set_base_domains([\"https://www.thairath.co.th/\", \"https://riskofrain.fandom.com/wiki/Main_Page\", \"https://en.wikipedia.org/\", \"https://iot-kmutnb.github.io/\"])\n",
    "Spider.max_depth = 0\n",
    "\n",
    "spider = Spider(url)\n",
    "success = spider.generate_next_soup()\n",
    "\n",
    "raw_storage.read_from_database(db)\n",
    "\n",
    "if success:\n",
    "    info = spider.crawl({})\n",
    "    raw_storage.modify_index(Spider.queue[Spider.queue_front-1], info[0], info[1], info[2])\n",
    "    raw_storage.save_to_database(db)\n",
    "else:\n",
    "    if Spider.get_base_domain(url) in Spider.all_robots:\n",
    "        Spider.unaccessible_urls.append(url)\n",
    "    print(\"Cannot crawl to the website.\")"
   ]
  },
  {
   "cell_type": "code",
   "execution_count": 8,
   "metadata": {},
   "outputs": [
    {
     "name": "stdout",
     "output_type": "stream",
     "text": [
      "['https://iot-kmutnb.github.io/', 'https://iot-kmutnb.github.io/']\n"
     ]
    }
   ],
   "source": [
    "print(Spider.unaccessible_urls)"
   ]
  }
 ],
 "metadata": {
  "kernelspec": {
   "display_name": "Python 3",
   "language": "python",
   "name": "python3"
  },
  "language_info": {
   "codemirror_mode": {
    "name": "ipython",
    "version": 3
   },
   "file_extension": ".py",
   "mimetype": "text/x-python",
   "name": "python",
   "nbconvert_exporter": "python",
   "pygments_lexer": "ipython3",
   "version": "3.10.6"
  },
  "orig_nbformat": 4
 },
 "nbformat": 4,
 "nbformat_minor": 2
}
