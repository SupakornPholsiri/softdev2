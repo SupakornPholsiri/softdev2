{
 "cells": [
  {
   "cell_type": "code",
   "execution_count": 6,
   "metadata": {},
   "outputs": [],
   "source": [
    "from SpiderV2 import Spider\n",
    "from IndexV2 import Database, Index, RawInfoIndex\n",
    "from Tokenize import Tokenize\n",
    "from Searcher import Search\n",
    "import time"
   ]
  },
  {
   "cell_type": "code",
   "execution_count": 7,
   "metadata": {},
   "outputs": [],
   "source": [
    "db = Database(SearchEngine=\"ForSpiderTest\")\n",
    "index = Index()\n",
    "raw_storage = RawInfoIndex()\n",
    "tokenizer = Tokenize()\n",
    "raw_storage.read_from_database(db)\n",
    "index.read_fw_index_from_database(db)\n",
    "index.read_ivi_index_from_database(db)"
   ]
  },
  {
   "cell_type": "code",
   "execution_count": 1,
   "metadata": {},
   "outputs": [
    {
     "ename": "NameError",
     "evalue": "name 'Spider' is not defined",
     "output_type": "error",
     "traceback": [
      "\u001b[1;31m---------------------------------------------------------------------------\u001b[0m",
      "\u001b[1;31mNameError\u001b[0m                                 Traceback (most recent call last)",
      "\u001b[1;32mc:\\Users\\supak\\Documents\\GitHub\\softdev2\\Rework\\DemoTest2.ipynb Cell 3\u001b[0m in \u001b[0;36m3\n\u001b[0;32m      <a href='vscode-notebook-cell:/c%3A/Users/supak/Documents/GitHub/softdev2/Rework/DemoTest2.ipynb#W2sZmlsZQ%3D%3D?line=0'>1</a>\u001b[0m url \u001b[39m=\u001b[39m \u001b[39m\"\u001b[39m\u001b[39mhttps://riskofrain2.fandom.com/wiki/Risk_of_Rain_2_Wiki\u001b[39m\u001b[39m\"\u001b[39m\n\u001b[0;32m      <a href='vscode-notebook-cell:/c%3A/Users/supak/Documents/GitHub/softdev2/Rework/DemoTest2.ipynb#W2sZmlsZQ%3D%3D?line=1'>2</a>\u001b[0m \u001b[39m#\"https://en.wikipedia.org/wiki/Climate_change\", \"https://riskofrain.fandom.com/wiki/Main_Page\", \"https://www.thairath.co.th/news/local/bangkok/2635906\" \u001b[39;00m\n\u001b[1;32m----> <a href='vscode-notebook-cell:/c%3A/Users/supak/Documents/GitHub/softdev2/Rework/DemoTest2.ipynb#W2sZmlsZQ%3D%3D?line=2'>3</a>\u001b[0m Spider\u001b[39m.\u001b[39mset_base_domains([\u001b[39m\"\u001b[39m\u001b[39mhttps://www.thairath.co.th/\u001b[39m\u001b[39m\"\u001b[39m, \u001b[39m\"\u001b[39m\u001b[39mhttps://riskofrain.fandom.com/wiki/Main_Page\u001b[39m\u001b[39m\"\u001b[39m, \u001b[39m\"\u001b[39m\u001b[39mhttps://en.wikipedia.org/\u001b[39m\u001b[39m\"\u001b[39m, \u001b[39m\"\u001b[39m\u001b[39mhttps://iot-kmutnb.github.io/\u001b[39m\u001b[39m\"\u001b[39m, \u001b[39m\"\u001b[39m\u001b[39mhttps://riskofrain2.fandom.com/\u001b[39m\u001b[39m\"\u001b[39m])\n\u001b[0;32m      <a href='vscode-notebook-cell:/c%3A/Users/supak/Documents/GitHub/softdev2/Rework/DemoTest2.ipynb#W2sZmlsZQ%3D%3D?line=3'>4</a>\u001b[0m Spider\u001b[39m.\u001b[39mmax_depth \u001b[39m=\u001b[39m \u001b[39m0\u001b[39m\n\u001b[0;32m      <a href='vscode-notebook-cell:/c%3A/Users/supak/Documents/GitHub/softdev2/Rework/DemoTest2.ipynb#W2sZmlsZQ%3D%3D?line=5'>6</a>\u001b[0m spider \u001b[39m=\u001b[39m Spider(url)\n",
      "\u001b[1;31mNameError\u001b[0m: name 'Spider' is not defined"
     ]
    }
   ],
   "source": [
    "\n",
    "url = \"https://riskofrain2.fandom.com/wiki/Risk_of_Rain_2_Wiki\"\n",
    "#\"https://en.wikipedia.org/wiki/Climate_change\", \"https://riskofrain.fandom.com/wiki/Main_Page\", \"https://www.thairath.co.th/news/local/bangkok/2635906\" \n",
    "Spider.set_base_domains([\"https://www.thairath.co.th/\", \"https://riskofrain.fandom.com/wiki/Main_Page\", \"https://en.wikipedia.org/\", \"https://iot-kmutnb.github.io/\", \"https://riskofrain2.fandom.com/\"])\n",
    "Spider.max_depth = 0\n",
    "\n",
    "spider = Spider(url)\n",
    "success = spider.generate_next_soup()\n",
    "\n",
    "raw_storage.read_from_database(db)\n",
    "\n",
    "if success:\n",
    "    info = spider.crawl({})\n",
    "    raw_storage.modify_index(Spider.queue[Spider.queue_front-1], info[0], info[1], info[2])\n",
    "    raw_storage.save_to_database(db)\n",
    "else:\n",
    "    if Spider.get_base_domain(url) in Spider.all_robots:\n",
    "        Spider.unaccessible_urls.append(url)\n",
    "    print(\"Cannot crawl to the website.\")"
   ]
  },
  {
   "cell_type": "code",
   "execution_count": 8,
   "metadata": {},
   "outputs": [],
   "source": [
    "for url in raw_storage.index:\n",
    "    tokens = tokenizer.tokenize(raw_storage.index[url][\"text\"])\n",
    "    tokens = tokenizer.filter(tokens)\n",
    "    tokens = tokenizer.make_counter(tokens)\n",
    "    index.modify_index(url, tokens)\n",
    "raw_storage.save_to_database(db)\n",
    "index.save_fw_index_to_database(db)\n",
    "index.save_ivi_index_to_database(db)"
   ]
  },
  {
   "cell_type": "code",
   "execution_count": 5,
   "metadata": {},
   "outputs": [
    {
     "name": "stdout",
     "output_type": "stream",
     "text": [
      "1\n"
     ]
    }
   ],
   "source": [
    "print(raw_storage.get_ref_count(\"https://riskofrain.fandom.com/wiki/Main_Page\"))"
   ]
  },
  {
   "cell_type": "code",
   "execution_count": 7,
   "metadata": {},
   "outputs": [],
   "source": [
    "raw_storage.remove_urls([\"https://riskofrain2.fandom.com/wiki/Risk_of_Rain_2_Wiki\"])\n",
    "index.remove_urls(raw_storage.url_to_be_deleted)"
   ]
  },
  {
   "cell_type": "code",
   "execution_count": 10,
   "metadata": {},
   "outputs": [
    {
     "name": "stdout",
     "output_type": "stream",
     "text": [
      "{'https://en.wikipedia.org/wiki/Climate_change': 39, 'https://riskofrain.fandom.com/wiki/Main_Page': 26, 'https://riskofrain2.fandom.com/wiki/Risk_of_Rain_2_Wiki': 18}\n"
     ]
    }
   ],
   "source": [
    "print(index.ivi_index[\"risk\"])"
   ]
  },
  {
   "cell_type": "code",
   "execution_count": 9,
   "metadata": {},
   "outputs": [
    {
     "name": "stdout",
     "output_type": "stream",
     "text": [
      "[('https://iot-kmutnb.github.io/blogs/electronics/mesh_and_nodal_analysis', 0.139285167282785, 0, {}), ('https://iot-kmutnb.github.io/blogs/electronics/r2r_lab', 0.12397450238601378, 0, {}), ('https://iot-kmutnb.github.io/blogs/electronics/rlc_circuits', 0.08967580001152524, 0, {}), ('https://iot-kmutnb.github.io/blogs/electronics/dc_circuit_analysis', 0.02035772553328785, 0, {}), ('https://iot-kmutnb.github.io/blogs/electronics/dc_sources_analysis', 0.019197889129605634, 0, {}), ('https://iot-kmutnb.github.io/blogs/electronics/oscilloscopes', 0.014593870469564466, 0, {}), ('https://iot-kmutnb.github.io/blogs/electronics/inductance_measurement', 0.012328919624517381, 0, {}), ('https://iot-kmutnb.github.io/blogs/tools/pulseview_rigol_ds1054z', 0.007864533952142762, 0, {}), ('https://iot-kmutnb.github.io/blogs/electronics/pulse_gen_logic_gates', 0.006904194989729734, 0, {}), ('https://iot-kmutnb.github.io/blogs', 0.006615598446037285, 0, {}), ('https://iot-kmutnb.github.io/blogs/electronics/ac_circuit_analysis', 0.006022867177915493, 0, {}), ('https://iot-kmutnb.github.io/blogs/electronics/circuit_simulation_software', 0.005181117066303208, 0, {'นิวซีแลนด์': 1, 'อิตาลี': 1}), ('https://iot-kmutnb.github.io/blogs/tinkercad', 0.004545800385868565, 0, {'เบลเยียม': 1}), ('https://iot-kmutnb.github.io/blogs/matlab/matlab_laplace_ode_solving', 0.003607657017644012, 0, {}), ('https://iot-kmutnb.github.io/blogs/electronics/arduino_inductance_measurement', 0.0031297868741132916, 0, {}), ('https://iot-kmutnb.github.io/blogs/esp32/esp32_c3_weact_studio', 0.003031245652042995, 0, {}), ('https://iot-kmutnb.github.io/blogs/arduino', 0.0028913002006039864, 0, {'อิตาลี': 3, 'โคลอมเบีย': 1, 'จีน': 1}), ('https://iot-kmutnb.github.io/blogs/displays/spi_tft_lcd', 0.002841625879976869, 0, {}), ('https://iot-kmutnb.github.io/blogs/sensors/veml6070', 0.0027672632979611725, 0, {}), ('https://iot-kmutnb.github.io/blogs/python/python_laplace_ode_solving', 0.0026944405795937734, 0, {}), ('https://iot-kmutnb.github.io/blogs/mbedos/mbed-rp2040-part-2', 0.0023107615072711783, 0, {}), ('https://iot-kmutnb.github.io/blogs/arduino/arduino_attiny85', 0.002292285269206643, 0, {'จีน': 1}), ('https://iot-kmutnb.github.io/blogs/zigbee/zigbee2mqtt_linux', 0.0022444296268432475, 0, {}), ('https://iot-kmutnb.github.io/blogs/seeed_xiao/xiao_samd21', 0.002231231666394844, 0, {'จีน': 1, 'ไทย': 1}), ('https://iot-kmutnb.github.io/blogs/sensors/ir_receiver', 0.002086524582742194, 0, {}), ('https://iot-kmutnb.github.io/blogs/mbedos/mbed-stm32-part-2', 0.001959146772223992, 0, {}), ('https://iot-kmutnb.github.io/blogs/arduino/arduino_nano', 0.0018762334925967114, 0, {'จีน': 4, 'มาเลเซีย': 2}), ('https://iot-kmutnb.github.io/blogs/tools/logic_analyzer_pulseview', 0.0015880085542952964, 0, {'จีน': 1}), ('https://iot-kmutnb.github.io/blogs/esp32/esp_at_firmware', 0.001354860480476264, 0, {'จีน': 1}), ('https://iot-kmutnb.github.io/blogs/arduino/arduino_avr_io_follower', 0.0013272614706887845, 0, {}), ('https://iot-kmutnb.github.io/blogs/esp32/esp32-luatos_core_c3', 0.001242869122841521, 0, {}), ('https://iot-kmutnb.github.io/blogs/mbedos/mbed-rp2040-part-4', 0.0011846631308627168, 0, {}), ('https://iot-kmutnb.github.io/blogs/sensors/max44009', 0.0011622505851436925, 0, {}), ('https://iot-kmutnb.github.io/blogs/sensors/bh1750', 0.0010804842123195134, 0, {}), ('https://iot-kmutnb.github.io/blogs/sensors/aht2x', 0.0010478380031753562, 0, {'จีน': 1}), ('https://iot-kmutnb.github.io/blogs/python', 0.0009118590256640505, 0, {}), ('https://iot-kmutnb.github.io/blogs/rpi/rpi4b_headless', 0.000811995310617761, 0, {}), ('https://iot-kmutnb.github.io/blogs/esp32/arduino-esp32-wokwi-part2', 0.0007813094413211596, 0, {}), ('https://iot-kmutnb.github.io/blogs/sensors/hc-sr04', 0.0005871555386444104, 0, {}), ('https://iot-kmutnb.github.io/blogs/esp32/esp32-c3_intro', 0.0005277770207451721, 0, {}), ('https://iot-kmutnb.github.io/blogs/esp32/esp32-c3_lolin_mini', 0.0005183615194107597, 0, {'จีน': 1}), ('https://iot-kmutnb.github.io/blogs/arduino/avr_gcc_part-2', 0.0004448000791302919, 0, {}), ('https://iot-kmutnb.github.io/blogs/arduino/arduino-spi-master-slave', 0.00040447019987130005, 0, {})]\n"
     ]
    }
   ],
   "source": [
    "print(Search().search([\"ไฟฟ้า\",\"โหนด\",\"ตัวเก็บประจุ\"], raw_storage.index, index.fw_index, index.ivi_index))"
   ]
  },
  {
   "cell_type": "code",
   "execution_count": null,
   "metadata": {},
   "outputs": [],
   "source": [
    "#bruh"
   ]
  }
 ],
 "metadata": {
  "kernelspec": {
   "display_name": "Python 3",
   "language": "python",
   "name": "python3"
  },
  "language_info": {
   "codemirror_mode": {
    "name": "ipython",
    "version": 3
   },
   "file_extension": ".py",
   "mimetype": "text/x-python",
   "name": "python",
   "nbconvert_exporter": "python",
   "pygments_lexer": "ipython3",
   "version": "3.10.6"
  },
  "orig_nbformat": 4
 },
 "nbformat": 4,
 "nbformat_minor": 2
}
